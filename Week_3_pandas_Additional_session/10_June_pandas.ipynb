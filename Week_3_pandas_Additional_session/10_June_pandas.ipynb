{
  "nbformat": 4,
  "nbformat_minor": 0,
  "metadata": {
    "colab": {
      "name": "10_June_week_session_wss21.ipynb",
      "provenance": []
    },
    "kernelspec": {
      "name": "python3",
      "display_name": "Python 3"
    },
    "language_info": {
      "name": "python"
    }
  },
  "cells": [
    {
      "cell_type": "markdown",
      "metadata": {
        "id": "uEv6stkf1bED"
      },
      "source": [
        "Indtrouction to Pandas "
      ]
    },
    {
      "cell_type": "code",
      "metadata": {
        "id": "SwMZ2QHvswLE",
        "colab": {
          "base_uri": "https://localhost:8080/"
        },
        "outputId": "40960803-91d5-4fa1-c55c-7a229f2cd39f"
      },
      "source": [
        "%matplotlib inline \n",
        "import pandas as pd\n",
        "import numpy as np \n",
        "import matplotlib as ml \n",
        "import sys\n",
        "plt = ml.pyplot\n",
        "ml.rcParams['figure.figsize'] = (10.0, 5.0)\n",
        "\n",
        "print(f\"python version: {sys.version} \\n\")\n",
        "print(f\"Pandas version: {pd.__version__} \\n\")\n",
        "print(f\"Numpy version : {np.__version__} \\n\")\n",
        "print(f\"Matplotlib version: {ml.__version__}\\n\")"
      ],
      "execution_count": null,
      "outputs": [
        {
          "output_type": "stream",
          "text": [
            "python version: 3.7.10 (default, May  3 2021, 02:48:31) \n",
            "[GCC 7.5.0] \n",
            "\n",
            "Pandas version: 1.1.5 \n",
            "\n",
            "Numpy version : 1.19.5 \n",
            "\n",
            "Matplotlib version: 3.2.2\n",
            "\n"
          ],
          "name": "stdout"
        }
      ]
    },
    {
      "cell_type": "code",
      "metadata": {
        "id": "9YqNhEy_s1sX"
      },
      "source": [
        "#initialise our random number generator \n",
        "import pandas as pd\n"
      ],
      "execution_count": null,
      "outputs": []
    },
    {
      "cell_type": "markdown",
      "metadata": {
        "id": "nKO77ZH14mQE"
      },
      "source": [
        "#Pandas consists of two data structure which is in readable form\n",
        "\n",
        "\n",
        "> Series\n",
        "\n",
        "> Data frame"
      ]
    },
    {
      "cell_type": "markdown",
      "metadata": {
        "id": "AErxWTj540DZ"
      },
      "source": [
        "What do you mean by Series:\n",
        "- one-dimensional data structure that consists of a key-value pair. \n",
        "For this we use by initializing >><font color = 'color'>  pd.Series(): </font>"
      ]
    },
    {
      "cell_type": "code",
      "metadata": {
        "colab": {
          "base_uri": "https://localhost:8080/"
        },
        "id": "oI2_50KA4zch",
        "outputId": "35e1c97e-206a-4679-b65a-21c3d6359e09"
      },
      "source": [
        "pd.Series(data):"
      ],
      "execution_count": null,
      "outputs": [
        {
          "output_type": "execute_result",
          "data": {
            "text/plain": [
              "0    1\n",
              "1    2\n",
              "2    3\n",
              "3    4\n",
              "4    5\n",
              "5    6\n",
              "6    7\n",
              "dtype: int64"
            ]
          },
          "metadata": {
            "tags": []
          },
          "execution_count": 8
        }
      ]
    },
    {
      "cell_type": "code",
      "metadata": {
        "colab": {
          "base_uri": "https://localhost:8080/"
        },
        "id": "XWBsCcAB4URo",
        "outputId": "df706497-8f79-4be5-8dcd-32a681b73e12"
      },
      "source": [
        " ds = pd.Series([3, 4, 5, np.nan, np.nan, 7, 8])\n",
        " ds\n",
        "#the first column represents the index or key of this data series"
      ],
      "execution_count": null,
      "outputs": [
        {
          "output_type": "execute_result",
          "data": {
            "text/plain": [
              "0    3.0\n",
              "1    4.0\n",
              "2    5.0\n",
              "3    NaN\n",
              "4    NaN\n",
              "5    7.0\n",
              "6    8.0\n",
              "dtype: float64"
            ]
          },
          "metadata": {
            "tags": []
          },
          "execution_count": 11
        }
      ]
    },
    {
      "cell_type": "markdown",
      "metadata": {
        "id": "6o9m2DRG6DXL"
      },
      "source": [
        "|Index| Series1 |\n",
        "| --- | --- | \n",
        "|0  |    3.0|\n",
        "|1   | 4.0|\n",
        "|2   | 5.0|\n",
        "|3   | NaN|\n",
        "|4   | NaN|\n",
        "|5   | 7.0|\n",
        "|6    |8.0|"
      ]
    },
    {
      "cell_type": "markdown",
      "metadata": {
        "id": "WrhcH_LA7DZh"
      },
      "source": [
        "|Index| Series2 |\n",
        "| --- | --- | \n",
        "|0  |    6.0|\n",
        "|1   | 8.0|\n",
        "|2   | 10.0|\n",
        "|3   | NaN|\n",
        "|4   | NaN|\n",
        "|5   | 14.0|\n",
        "|6    |16.0|"
      ]
    },
    {
      "cell_type": "code",
      "metadata": {
        "colab": {
          "base_uri": "https://localhost:8080/"
        },
        "id": "NjkbrHyp9ONf",
        "outputId": "2963c568-fb6f-4689-e23b-c50c3fe5e03f"
      },
      "source": [
        "ds"
      ],
      "execution_count": null,
      "outputs": [
        {
          "output_type": "execute_result",
          "data": {
            "text/plain": [
              "0    3.0\n",
              "1    4.0\n",
              "2    5.0\n",
              "3    NaN\n",
              "4    NaN\n",
              "5    7.0\n",
              "6    8.0\n",
              "dtype: float64"
            ]
          },
          "metadata": {
            "tags": []
          },
          "execution_count": 26
        }
      ]
    },
    {
      "cell_type": "code",
      "metadata": {
        "colab": {
          "base_uri": "https://localhost:8080/"
        },
        "id": "pUikvIsS9Rsu",
        "outputId": "4d738fe8-a212-4f17-a5c4-2145d6db1de4"
      },
      "source": [
        "ds.dropna() #drop nan value from this table"
      ],
      "execution_count": null,
      "outputs": [
        {
          "output_type": "execute_result",
          "data": {
            "text/plain": [
              "0    3.0\n",
              "1    4.0\n",
              "2    5.0\n",
              "5    7.0\n",
              "6    8.0\n",
              "dtype: float64"
            ]
          },
          "metadata": {
            "tags": []
          },
          "execution_count": 31
        }
      ]
    },
    {
      "cell_type": "code",
      "metadata": {
        "id": "O08ixeEfs-yd"
      },
      "source": [
        ""
      ],
      "execution_count": null,
      "outputs": []
    },
    {
      "cell_type": "code",
      "metadata": {
        "colab": {
          "base_uri": "https://localhost:8080/"
        },
        "id": "uuPRGiNY-i9W",
        "outputId": "93d8194e-fa6a-48ae-da7d-1939977d0e48"
      },
      "source": [
        "# here imporing random module \n",
        "import random\n",
        "  \n",
        "random.seed(3)\n",
        "  \n",
        "# printing the number between 1 and 1000.\n",
        "print(random.randint(1, 1000))\n",
        "  \n",
        "# if you want to obtain the random value again, you can use the following code\n",
        "random.seed(3) \n",
        "print(random.randint(1, 1000))\n",
        "  \n",
        "  \n",
        "#unpredictable random number give while not seeding.\n",
        "# print(random.randint(1, 1000))"
      ],
      "execution_count": null,
      "outputs": [
        {
          "output_type": "stream",
          "text": [
            "244\n",
            "244\n"
          ],
          "name": "stdout"
        }
      ]
    },
    {
      "cell_type": "code",
      "metadata": {
        "colab": {
          "base_uri": "https://localhost:8080/"
        },
        "id": "TvwpQoLu-tZo",
        "outputId": "76b35daa-af27-44c2-a508-2080c54055aa"
      },
      "source": [
        "rng = np.random.default_rng(42)\n",
        "s = pd.Series(rng.integers(0,15,5))\n",
        "s"
      ],
      "execution_count": null,
      "outputs": [
        {
          "output_type": "execute_result",
          "data": {
            "text/plain": [
              "0     1\n",
              "1    11\n",
              "2     9\n",
              "3     6\n",
              "4     6\n",
              "dtype: int64"
            ]
          },
          "metadata": {
            "tags": []
          },
          "execution_count": 54
        }
      ]
    },
    {
      "cell_type": "code",
      "metadata": {
        "colab": {
          "base_uri": "https://localhost:8080/"
        },
        "id": "FfDALoR3DkCj",
        "outputId": "bc53e072-a86b-49f4-83ce-78e6feddc067"
      },
      "source": [
        "s.sort_values(ascending= False)"
      ],
      "execution_count": null,
      "outputs": [
        {
          "output_type": "execute_result",
          "data": {
            "text/plain": [
              "1    11\n",
              "2     9\n",
              "4     6\n",
              "3     6\n",
              "0     1\n",
              "dtype: int64"
            ]
          },
          "metadata": {
            "tags": []
          },
          "execution_count": 56
        }
      ]
    },
    {
      "cell_type": "code",
      "metadata": {
        "colab": {
          "base_uri": "https://localhost:8080/"
        },
        "id": "PRaPkAbsDxI0",
        "outputId": "675e82e2-01b1-409b-a40b-a88983dac545"
      },
      "source": [
        "s * s.sort_values()"
      ],
      "execution_count": null,
      "outputs": [
        {
          "output_type": "execute_result",
          "data": {
            "text/plain": [
              "0      1\n",
              "1    121\n",
              "2     81\n",
              "3     36\n",
              "4     36\n",
              "dtype: int64"
            ]
          },
          "metadata": {
            "tags": []
          },
          "execution_count": 61
        }
      ]
    },
    {
      "cell_type": "code",
      "metadata": {
        "colab": {
          "base_uri": "https://localhost:8080/"
        },
        "id": "ycA9F1eXECuO",
        "outputId": "cf7b31ea-d584-4cd7-b486-dbe7c6de09df"
      },
      "source": [
        "s*s.sort_values().reset_index(drop = True)"
      ],
      "execution_count": null,
      "outputs": [
        {
          "output_type": "execute_result",
          "data": {
            "text/plain": [
              "0     1\n",
              "1    66\n",
              "2    54\n",
              "3    54\n",
              "4    66\n",
              "dtype: int64"
            ]
          },
          "metadata": {
            "tags": []
          },
          "execution_count": 67
        }
      ]
    },
    {
      "cell_type": "code",
      "metadata": {
        "id": "8bdJMgPo7Y4E"
      },
      "source": [
        "data = { \n",
        "    \"a\" : [2,3,4],\n",
        "    \"b\" : [2.5, 3.3, 5.5],\n",
        "    \"c\" : [\"foo\", \"bar\", \"baz\"], \n",
        "    \"d\" : 55\n",
        "     \n",
        "} #curly brackets called dict\n"
      ],
      "execution_count": null,
      "outputs": []
    },
    {
      "cell_type": "code",
      "metadata": {
        "colab": {
          "base_uri": "https://localhost:8080/",
          "height": 142
        },
        "id": "Rmo-MPPc59yO",
        "outputId": "accbe34b-8969-4a2d-a124-d271e19e4924"
      },
      "source": [
        "pd.DataFrame(data)"
      ],
      "execution_count": null,
      "outputs": [
        {
          "output_type": "execute_result",
          "data": {
            "text/html": [
              "<div>\n",
              "<style scoped>\n",
              "    .dataframe tbody tr th:only-of-type {\n",
              "        vertical-align: middle;\n",
              "    }\n",
              "\n",
              "    .dataframe tbody tr th {\n",
              "        vertical-align: top;\n",
              "    }\n",
              "\n",
              "    .dataframe thead th {\n",
              "        text-align: right;\n",
              "    }\n",
              "</style>\n",
              "<table border=\"1\" class=\"dataframe\">\n",
              "  <thead>\n",
              "    <tr style=\"text-align: right;\">\n",
              "      <th></th>\n",
              "      <th>a</th>\n",
              "      <th>b</th>\n",
              "      <th>c</th>\n",
              "      <th>d</th>\n",
              "    </tr>\n",
              "  </thead>\n",
              "  <tbody>\n",
              "    <tr>\n",
              "      <th>0</th>\n",
              "      <td>2</td>\n",
              "      <td>2.5</td>\n",
              "      <td>foo</td>\n",
              "      <td>55</td>\n",
              "    </tr>\n",
              "    <tr>\n",
              "      <th>1</th>\n",
              "      <td>3</td>\n",
              "      <td>3.3</td>\n",
              "      <td>bar</td>\n",
              "      <td>55</td>\n",
              "    </tr>\n",
              "    <tr>\n",
              "      <th>2</th>\n",
              "      <td>4</td>\n",
              "      <td>5.5</td>\n",
              "      <td>baz</td>\n",
              "      <td>55</td>\n",
              "    </tr>\n",
              "  </tbody>\n",
              "</table>\n",
              "</div>"
            ],
            "text/plain": [
              "   a    b    c   d\n",
              "0  2  2.5  foo  55\n",
              "1  3  3.3  bar  55\n",
              "2  4  5.5  baz  55"
            ]
          },
          "metadata": {
            "tags": []
          },
          "execution_count": 14
        }
      ]
    },
    {
      "cell_type": "code",
      "metadata": {
        "id": "IjxUbl2c8Xa2"
      },
      "source": [
        "df = pd.DataFrame(data)\n"
      ],
      "execution_count": null,
      "outputs": []
    },
    {
      "cell_type": "code",
      "metadata": {
        "colab": {
          "base_uri": "https://localhost:8080/"
        },
        "id": "psj9Purz591G",
        "outputId": "b26f7497-ed81-49f5-80df-b7c827879b71"
      },
      "source": [
        "type(df)"
      ],
      "execution_count": null,
      "outputs": [
        {
          "output_type": "execute_result",
          "data": {
            "text/plain": [
              "pandas.core.frame.DataFrame"
            ]
          },
          "metadata": {
            "tags": []
          },
          "execution_count": 17
        }
      ]
    },
    {
      "cell_type": "code",
      "metadata": {
        "colab": {
          "base_uri": "https://localhost:8080/"
        },
        "id": "G0O7hG3-FGYR",
        "outputId": "fbcf7d5b-39d3-47d8-c986-96e0f1c2407d"
      },
      "source": [
        "df.dtypes"
      ],
      "execution_count": null,
      "outputs": [
        {
          "output_type": "execute_result",
          "data": {
            "text/plain": [
              "a      int64\n",
              "b    float64\n",
              "c     object\n",
              "d      int64\n",
              "dtype: object"
            ]
          },
          "metadata": {
            "tags": []
          },
          "execution_count": 69
        }
      ]
    },
    {
      "cell_type": "code",
      "metadata": {
        "colab": {
          "base_uri": "https://localhost:8080/"
        },
        "id": "jWDB3vdm8nnV",
        "outputId": "cd9b9fe9-1e39-4f8e-b3cb-591649188869"
      },
      "source": [
        "df['a']"
      ],
      "execution_count": null,
      "outputs": [
        {
          "output_type": "execute_result",
          "data": {
            "text/plain": [
              "0    2\n",
              "1    3\n",
              "2    4\n",
              "Name: a, dtype: int64"
            ]
          },
          "metadata": {
            "tags": []
          },
          "execution_count": 20
        }
      ]
    },
    {
      "cell_type": "code",
      "metadata": {
        "colab": {
          "base_uri": "https://localhost:8080/"
        },
        "id": "OSdSbvVf8vQr",
        "outputId": "6f4f922c-0e08-428e-cf91-e66d9ed0923e"
      },
      "source": [
        " df.columns "
      ],
      "execution_count": null,
      "outputs": [
        {
          "output_type": "execute_result",
          "data": {
            "text/plain": [
              "Index(['a', 'b', 'c', 'd'], dtype='object')"
            ]
          },
          "metadata": {
            "tags": []
          },
          "execution_count": 71
        }
      ]
    },
    {
      "cell_type": "code",
      "metadata": {
        "colab": {
          "base_uri": "https://localhost:8080/",
          "height": 111
        },
        "id": "YbsxAdhwF17w",
        "outputId": "9e2aeed3-d87b-4887-d484-a3227ad9f73e"
      },
      "source": [
        "df.head(2)"
      ],
      "execution_count": null,
      "outputs": [
        {
          "output_type": "execute_result",
          "data": {
            "text/html": [
              "<div>\n",
              "<style scoped>\n",
              "    .dataframe tbody tr th:only-of-type {\n",
              "        vertical-align: middle;\n",
              "    }\n",
              "\n",
              "    .dataframe tbody tr th {\n",
              "        vertical-align: top;\n",
              "    }\n",
              "\n",
              "    .dataframe thead th {\n",
              "        text-align: right;\n",
              "    }\n",
              "</style>\n",
              "<table border=\"1\" class=\"dataframe\">\n",
              "  <thead>\n",
              "    <tr style=\"text-align: right;\">\n",
              "      <th></th>\n",
              "      <th>a</th>\n",
              "      <th>b</th>\n",
              "      <th>c</th>\n",
              "      <th>d</th>\n",
              "    </tr>\n",
              "  </thead>\n",
              "  <tbody>\n",
              "    <tr>\n",
              "      <th>0</th>\n",
              "      <td>2</td>\n",
              "      <td>2.5</td>\n",
              "      <td>foo</td>\n",
              "      <td>55</td>\n",
              "    </tr>\n",
              "    <tr>\n",
              "      <th>1</th>\n",
              "      <td>3</td>\n",
              "      <td>3.3</td>\n",
              "      <td>bar</td>\n",
              "      <td>55</td>\n",
              "    </tr>\n",
              "  </tbody>\n",
              "</table>\n",
              "</div>"
            ],
            "text/plain": [
              "   a    b    c   d\n",
              "0  2  2.5  foo  55\n",
              "1  3  3.3  bar  55"
            ]
          },
          "metadata": {
            "tags": []
          },
          "execution_count": 74
        }
      ]
    },
    {
      "cell_type": "code",
      "metadata": {
        "colab": {
          "base_uri": "https://localhost:8080/",
          "height": 142
        },
        "id": "YkP85HkfF8KY",
        "outputId": "82f3216d-598c-474f-cdc2-13def47351a0"
      },
      "source": [
        "df.tail()"
      ],
      "execution_count": null,
      "outputs": [
        {
          "output_type": "execute_result",
          "data": {
            "text/html": [
              "<div>\n",
              "<style scoped>\n",
              "    .dataframe tbody tr th:only-of-type {\n",
              "        vertical-align: middle;\n",
              "    }\n",
              "\n",
              "    .dataframe tbody tr th {\n",
              "        vertical-align: top;\n",
              "    }\n",
              "\n",
              "    .dataframe thead th {\n",
              "        text-align: right;\n",
              "    }\n",
              "</style>\n",
              "<table border=\"1\" class=\"dataframe\">\n",
              "  <thead>\n",
              "    <tr style=\"text-align: right;\">\n",
              "      <th></th>\n",
              "      <th>a</th>\n",
              "      <th>b</th>\n",
              "      <th>c</th>\n",
              "      <th>d</th>\n",
              "    </tr>\n",
              "  </thead>\n",
              "  <tbody>\n",
              "    <tr>\n",
              "      <th>0</th>\n",
              "      <td>2</td>\n",
              "      <td>2.5</td>\n",
              "      <td>foo</td>\n",
              "      <td>55</td>\n",
              "    </tr>\n",
              "    <tr>\n",
              "      <th>1</th>\n",
              "      <td>3</td>\n",
              "      <td>3.3</td>\n",
              "      <td>bar</td>\n",
              "      <td>55</td>\n",
              "    </tr>\n",
              "    <tr>\n",
              "      <th>2</th>\n",
              "      <td>4</td>\n",
              "      <td>5.5</td>\n",
              "      <td>baz</td>\n",
              "      <td>55</td>\n",
              "    </tr>\n",
              "  </tbody>\n",
              "</table>\n",
              "</div>"
            ],
            "text/plain": [
              "   a    b    c   d\n",
              "0  2  2.5  foo  55\n",
              "1  3  3.3  bar  55\n",
              "2  4  5.5  baz  55"
            ]
          },
          "metadata": {
            "tags": []
          },
          "execution_count": 75
        }
      ]
    },
    {
      "cell_type": "code",
      "metadata": {
        "colab": {
          "base_uri": "https://localhost:8080/"
        },
        "id": "uxxMGm72FuyD",
        "outputId": "a0662932-69ab-413b-a1fa-3627fa0fe311"
      },
      "source": [
        "df.shape"
      ],
      "execution_count": null,
      "outputs": [
        {
          "output_type": "execute_result",
          "data": {
            "text/plain": [
              "(3, 4)"
            ]
          },
          "metadata": {
            "tags": []
          },
          "execution_count": 72
        }
      ]
    },
    {
      "cell_type": "code",
      "metadata": {
        "id": "HpEcB9kAF0FR"
      },
      "source": [
        "data = { \n",
        "    \"a\" : [2,3,4,3,4,5,6,6],\n",
        "    \"b\" : [2.5, 3.3, 5.5, 2.5, 3.3, 5.5, 2.,2.2],\n",
        "    \"c\" : [\"foo\", \"bar\", \"baz\", 'ab', 'bc', 'cd', 'de', 'ef'], \n",
        "    \"d\" : 55\n",
        "     \n",
        "} #curly brackets called dict\n"
      ],
      "execution_count": null,
      "outputs": []
    },
    {
      "cell_type": "code",
      "metadata": {
        "colab": {
          "base_uri": "https://localhost:8080/",
          "height": 297
        },
        "id": "rX4EhfWT8yjR",
        "outputId": "3ea125f1-ceba-429d-e637-d5733fcf29b3"
      },
      "source": [
        "dff = pd.DataFrame(data)\n",
        "dff"
      ],
      "execution_count": null,
      "outputs": [
        {
          "output_type": "execute_result",
          "data": {
            "text/html": [
              "<div>\n",
              "<style scoped>\n",
              "    .dataframe tbody tr th:only-of-type {\n",
              "        vertical-align: middle;\n",
              "    }\n",
              "\n",
              "    .dataframe tbody tr th {\n",
              "        vertical-align: top;\n",
              "    }\n",
              "\n",
              "    .dataframe thead th {\n",
              "        text-align: right;\n",
              "    }\n",
              "</style>\n",
              "<table border=\"1\" class=\"dataframe\">\n",
              "  <thead>\n",
              "    <tr style=\"text-align: right;\">\n",
              "      <th></th>\n",
              "      <th>a</th>\n",
              "      <th>b</th>\n",
              "      <th>c</th>\n",
              "      <th>d</th>\n",
              "    </tr>\n",
              "  </thead>\n",
              "  <tbody>\n",
              "    <tr>\n",
              "      <th>0</th>\n",
              "      <td>2</td>\n",
              "      <td>2.5</td>\n",
              "      <td>foo</td>\n",
              "      <td>55</td>\n",
              "    </tr>\n",
              "    <tr>\n",
              "      <th>1</th>\n",
              "      <td>3</td>\n",
              "      <td>3.3</td>\n",
              "      <td>bar</td>\n",
              "      <td>55</td>\n",
              "    </tr>\n",
              "    <tr>\n",
              "      <th>2</th>\n",
              "      <td>4</td>\n",
              "      <td>5.5</td>\n",
              "      <td>baz</td>\n",
              "      <td>55</td>\n",
              "    </tr>\n",
              "    <tr>\n",
              "      <th>3</th>\n",
              "      <td>3</td>\n",
              "      <td>2.5</td>\n",
              "      <td>ab</td>\n",
              "      <td>55</td>\n",
              "    </tr>\n",
              "    <tr>\n",
              "      <th>4</th>\n",
              "      <td>4</td>\n",
              "      <td>3.3</td>\n",
              "      <td>bc</td>\n",
              "      <td>55</td>\n",
              "    </tr>\n",
              "    <tr>\n",
              "      <th>5</th>\n",
              "      <td>5</td>\n",
              "      <td>5.5</td>\n",
              "      <td>cd</td>\n",
              "      <td>55</td>\n",
              "    </tr>\n",
              "    <tr>\n",
              "      <th>6</th>\n",
              "      <td>6</td>\n",
              "      <td>2.0</td>\n",
              "      <td>de</td>\n",
              "      <td>55</td>\n",
              "    </tr>\n",
              "    <tr>\n",
              "      <th>7</th>\n",
              "      <td>6</td>\n",
              "      <td>2.2</td>\n",
              "      <td>ef</td>\n",
              "      <td>55</td>\n",
              "    </tr>\n",
              "  </tbody>\n",
              "</table>\n",
              "</div>"
            ],
            "text/plain": [
              "   a    b    c   d\n",
              "0  2  2.5  foo  55\n",
              "1  3  3.3  bar  55\n",
              "2  4  5.5  baz  55\n",
              "3  3  2.5   ab  55\n",
              "4  4  3.3   bc  55\n",
              "5  5  5.5   cd  55\n",
              "6  6  2.0   de  55\n",
              "7  6  2.2   ef  55"
            ]
          },
          "metadata": {
            "tags": []
          },
          "execution_count": 79
        }
      ]
    },
    {
      "cell_type": "code",
      "metadata": {
        "colab": {
          "base_uri": "https://localhost:8080/",
          "height": 204
        },
        "id": "7CH9gXpLGUcp",
        "outputId": "a81ced94-0b1a-483d-d936-9f39498584c6"
      },
      "source": [
        "dff.tail()"
      ],
      "execution_count": null,
      "outputs": [
        {
          "output_type": "execute_result",
          "data": {
            "text/html": [
              "<div>\n",
              "<style scoped>\n",
              "    .dataframe tbody tr th:only-of-type {\n",
              "        vertical-align: middle;\n",
              "    }\n",
              "\n",
              "    .dataframe tbody tr th {\n",
              "        vertical-align: top;\n",
              "    }\n",
              "\n",
              "    .dataframe thead th {\n",
              "        text-align: right;\n",
              "    }\n",
              "</style>\n",
              "<table border=\"1\" class=\"dataframe\">\n",
              "  <thead>\n",
              "    <tr style=\"text-align: right;\">\n",
              "      <th></th>\n",
              "      <th>a</th>\n",
              "      <th>b</th>\n",
              "      <th>c</th>\n",
              "      <th>d</th>\n",
              "    </tr>\n",
              "  </thead>\n",
              "  <tbody>\n",
              "    <tr>\n",
              "      <th>3</th>\n",
              "      <td>3</td>\n",
              "      <td>2.5</td>\n",
              "      <td>ab</td>\n",
              "      <td>55</td>\n",
              "    </tr>\n",
              "    <tr>\n",
              "      <th>4</th>\n",
              "      <td>4</td>\n",
              "      <td>3.3</td>\n",
              "      <td>bc</td>\n",
              "      <td>55</td>\n",
              "    </tr>\n",
              "    <tr>\n",
              "      <th>5</th>\n",
              "      <td>5</td>\n",
              "      <td>5.5</td>\n",
              "      <td>cd</td>\n",
              "      <td>55</td>\n",
              "    </tr>\n",
              "    <tr>\n",
              "      <th>6</th>\n",
              "      <td>6</td>\n",
              "      <td>2.0</td>\n",
              "      <td>de</td>\n",
              "      <td>55</td>\n",
              "    </tr>\n",
              "    <tr>\n",
              "      <th>7</th>\n",
              "      <td>6</td>\n",
              "      <td>2.2</td>\n",
              "      <td>ef</td>\n",
              "      <td>55</td>\n",
              "    </tr>\n",
              "  </tbody>\n",
              "</table>\n",
              "</div>"
            ],
            "text/plain": [
              "   a    b   c   d\n",
              "3  3  2.5  ab  55\n",
              "4  4  3.3  bc  55\n",
              "5  5  5.5  cd  55\n",
              "6  6  2.0  de  55\n",
              "7  6  2.2  ef  55"
            ]
          },
          "metadata": {
            "tags": []
          },
          "execution_count": 78
        }
      ]
    },
    {
      "cell_type": "code",
      "metadata": {
        "colab": {
          "base_uri": "https://localhost:8080/",
          "height": 204
        },
        "id": "9bCtTtwSGcY3",
        "outputId": "9cce9c70-b94c-4183-82bf-1183486e9454"
      },
      "source": [
        "dff.head()"
      ],
      "execution_count": null,
      "outputs": [
        {
          "output_type": "execute_result",
          "data": {
            "text/html": [
              "<div>\n",
              "<style scoped>\n",
              "    .dataframe tbody tr th:only-of-type {\n",
              "        vertical-align: middle;\n",
              "    }\n",
              "\n",
              "    .dataframe tbody tr th {\n",
              "        vertical-align: top;\n",
              "    }\n",
              "\n",
              "    .dataframe thead th {\n",
              "        text-align: right;\n",
              "    }\n",
              "</style>\n",
              "<table border=\"1\" class=\"dataframe\">\n",
              "  <thead>\n",
              "    <tr style=\"text-align: right;\">\n",
              "      <th></th>\n",
              "      <th>a</th>\n",
              "      <th>b</th>\n",
              "      <th>c</th>\n",
              "      <th>d</th>\n",
              "    </tr>\n",
              "  </thead>\n",
              "  <tbody>\n",
              "    <tr>\n",
              "      <th>0</th>\n",
              "      <td>2</td>\n",
              "      <td>2.5</td>\n",
              "      <td>foo</td>\n",
              "      <td>55</td>\n",
              "    </tr>\n",
              "    <tr>\n",
              "      <th>1</th>\n",
              "      <td>3</td>\n",
              "      <td>3.3</td>\n",
              "      <td>bar</td>\n",
              "      <td>55</td>\n",
              "    </tr>\n",
              "    <tr>\n",
              "      <th>2</th>\n",
              "      <td>4</td>\n",
              "      <td>5.5</td>\n",
              "      <td>baz</td>\n",
              "      <td>55</td>\n",
              "    </tr>\n",
              "    <tr>\n",
              "      <th>3</th>\n",
              "      <td>3</td>\n",
              "      <td>2.5</td>\n",
              "      <td>ab</td>\n",
              "      <td>55</td>\n",
              "    </tr>\n",
              "    <tr>\n",
              "      <th>4</th>\n",
              "      <td>4</td>\n",
              "      <td>3.3</td>\n",
              "      <td>bc</td>\n",
              "      <td>55</td>\n",
              "    </tr>\n",
              "  </tbody>\n",
              "</table>\n",
              "</div>"
            ],
            "text/plain": [
              "   a    b    c   d\n",
              "0  2  2.5  foo  55\n",
              "1  3  3.3  bar  55\n",
              "2  4  5.5  baz  55\n",
              "3  3  2.5   ab  55\n",
              "4  4  3.3   bc  55"
            ]
          },
          "metadata": {
            "tags": []
          },
          "execution_count": 80
        }
      ]
    },
    {
      "cell_type": "code",
      "metadata": {
        "id": "8nhyRWcEGfbG"
      },
      "source": [
        "# dff.describe()"
      ],
      "execution_count": null,
      "outputs": []
    },
    {
      "cell_type": "markdown",
      "metadata": {
        "id": "hun9FiuyI9Wp"
      },
      "source": [
        "\n",
        "loc[row_label, column_label]\n",
        "\n",
        "iloc[row_position, column_position]"
      ]
    },
    {
      "cell_type": "code",
      "metadata": {
        "colab": {
          "base_uri": "https://localhost:8080/"
        },
        "id": "N-HaMJzlG1Mf",
        "outputId": "1369db0c-8a8d-4378-ab87-28b8783770a5"
      },
      "source": [
        "dff.loc[1] #second row and first inde"
      ],
      "execution_count": null,
      "outputs": [
        {
          "output_type": "execute_result",
          "data": {
            "text/plain": [
              "a      3\n",
              "b    3.3\n",
              "c    bar\n",
              "d     55\n",
              "Name: 1, dtype: object"
            ]
          },
          "metadata": {
            "tags": []
          },
          "execution_count": 102
        }
      ]
    },
    {
      "cell_type": "code",
      "metadata": {
        "colab": {
          "base_uri": "https://localhost:8080/"
        },
        "id": "NIxn0f7vMNhV",
        "outputId": "8862be2d-b59f-41d9-a377-7a3a46babe01"
      },
      "source": [
        "dff.iloc[1] #pointing index"
      ],
      "execution_count": null,
      "outputs": [
        {
          "output_type": "execute_result",
          "data": {
            "text/plain": [
              "a      3\n",
              "b    3.3\n",
              "c    bar\n",
              "d     55\n",
              "Name: 1, dtype: object"
            ]
          },
          "metadata": {
            "tags": []
          },
          "execution_count": 108
        }
      ]
    },
    {
      "cell_type": "code",
      "metadata": {
        "colab": {
          "base_uri": "https://localhost:8080/",
          "height": 297
        },
        "id": "9WRR-9sfMhXJ",
        "outputId": "5bcd0672-4105-4708-d2d5-f802ebddeb39"
      },
      "source": [
        "dff"
      ],
      "execution_count": null,
      "outputs": [
        {
          "output_type": "execute_result",
          "data": {
            "text/html": [
              "<div>\n",
              "<style scoped>\n",
              "    .dataframe tbody tr th:only-of-type {\n",
              "        vertical-align: middle;\n",
              "    }\n",
              "\n",
              "    .dataframe tbody tr th {\n",
              "        vertical-align: top;\n",
              "    }\n",
              "\n",
              "    .dataframe thead th {\n",
              "        text-align: right;\n",
              "    }\n",
              "</style>\n",
              "<table border=\"1\" class=\"dataframe\">\n",
              "  <thead>\n",
              "    <tr style=\"text-align: right;\">\n",
              "      <th></th>\n",
              "      <th>a</th>\n",
              "      <th>b</th>\n",
              "      <th>c</th>\n",
              "      <th>d</th>\n",
              "    </tr>\n",
              "  </thead>\n",
              "  <tbody>\n",
              "    <tr>\n",
              "      <th>0</th>\n",
              "      <td>2</td>\n",
              "      <td>2.5</td>\n",
              "      <td>foo</td>\n",
              "      <td>55</td>\n",
              "    </tr>\n",
              "    <tr>\n",
              "      <th>1</th>\n",
              "      <td>3</td>\n",
              "      <td>3.3</td>\n",
              "      <td>bar</td>\n",
              "      <td>55</td>\n",
              "    </tr>\n",
              "    <tr>\n",
              "      <th>2</th>\n",
              "      <td>4</td>\n",
              "      <td>5.5</td>\n",
              "      <td>baz</td>\n",
              "      <td>55</td>\n",
              "    </tr>\n",
              "    <tr>\n",
              "      <th>3</th>\n",
              "      <td>3</td>\n",
              "      <td>2.5</td>\n",
              "      <td>ab</td>\n",
              "      <td>55</td>\n",
              "    </tr>\n",
              "    <tr>\n",
              "      <th>4</th>\n",
              "      <td>4</td>\n",
              "      <td>3.3</td>\n",
              "      <td>bc</td>\n",
              "      <td>55</td>\n",
              "    </tr>\n",
              "    <tr>\n",
              "      <th>5</th>\n",
              "      <td>5</td>\n",
              "      <td>5.5</td>\n",
              "      <td>cd</td>\n",
              "      <td>55</td>\n",
              "    </tr>\n",
              "    <tr>\n",
              "      <th>6</th>\n",
              "      <td>6</td>\n",
              "      <td>2.0</td>\n",
              "      <td>de</td>\n",
              "      <td>55</td>\n",
              "    </tr>\n",
              "    <tr>\n",
              "      <th>7</th>\n",
              "      <td>6</td>\n",
              "      <td>2.2</td>\n",
              "      <td>ef</td>\n",
              "      <td>55</td>\n",
              "    </tr>\n",
              "  </tbody>\n",
              "</table>\n",
              "</div>"
            ],
            "text/plain": [
              "   a    b    c   d\n",
              "0  2  2.5  foo  55\n",
              "1  3  3.3  bar  55\n",
              "2  4  5.5  baz  55\n",
              "3  3  2.5   ab  55\n",
              "4  4  3.3   bc  55\n",
              "5  5  5.5   cd  55\n",
              "6  6  2.0   de  55\n",
              "7  6  2.2   ef  55"
            ]
          },
          "metadata": {
            "tags": []
          },
          "execution_count": 105
        }
      ]
    },
    {
      "cell_type": "code",
      "metadata": {
        "colab": {
          "base_uri": "https://localhost:8080/"
        },
        "id": "LA7SCSv-Me52",
        "outputId": "de721d86-069b-4ed0-8710-ecc191381ccf"
      },
      "source": [
        "dff.loc[1, 'b'] #row_label and column_label"
      ],
      "execution_count": null,
      "outputs": [
        {
          "output_type": "execute_result",
          "data": {
            "text/plain": [
              "3.3"
            ]
          },
          "metadata": {
            "tags": []
          },
          "execution_count": 116
        }
      ]
    },
    {
      "cell_type": "code",
      "metadata": {
        "colab": {
          "base_uri": "https://localhost:8080/"
        },
        "id": "Dy7f9PUDNHfL",
        "outputId": "54095c40-19f2-4cae-9e1e-35db4978a0c0"
      },
      "source": [
        "dff.iloc[1, 1] #row_position and column_position by indexing\n",
        "#The equivalent iloc statement should take the row number1 and the column number 1 .\n"
      ],
      "execution_count": null,
      "outputs": [
        {
          "output_type": "execute_result",
          "data": {
            "text/plain": [
              "3.3"
            ]
          },
          "metadata": {
            "tags": []
          },
          "execution_count": 120
        }
      ]
    },
    {
      "cell_type": "code",
      "metadata": {
        "colab": {
          "base_uri": "https://localhost:8080/"
        },
        "id": "GK5WnPOhNTFg",
        "outputId": "f30392c4-b17d-4085-e897-defbcf7b735d"
      },
      "source": [
        "#Using : to return all data, to get all rows:\n",
        "dff.loc[:, 'a']"
      ],
      "execution_count": null,
      "outputs": [
        {
          "output_type": "execute_result",
          "data": {
            "text/plain": [
              "0    2\n",
              "1    3\n",
              "2    4\n",
              "3    3\n",
              "4    4\n",
              "5    5\n",
              "6    6\n",
              "7    6\n",
              "Name: a, dtype: int64"
            ]
          },
          "metadata": {
            "tags": []
          },
          "execution_count": 122
        }
      ]
    },
    {
      "cell_type": "code",
      "metadata": {
        "colab": {
          "base_uri": "https://localhost:8080/"
        },
        "id": "jw3kHkocN6-H",
        "outputId": "0c3daf25-c3d4-4dc9-9133-07a26331c450"
      },
      "source": [
        "# To get all columns\n",
        "dff.loc[1, :]"
      ],
      "execution_count": null,
      "outputs": [
        {
          "output_type": "execute_result",
          "data": {
            "text/plain": [
              "a      3\n",
              "b    3.3\n",
              "c    bar\n",
              "d     55\n",
              "Name: 1, dtype: object"
            ]
          },
          "metadata": {
            "tags": []
          },
          "execution_count": 123
        }
      ]
    },
    {
      "cell_type": "code",
      "metadata": {
        "colab": {
          "base_uri": "https://localhost:8080/"
        },
        "id": "jRecJM7PPZYC",
        "outputId": "4c9f6d39-2473-40b9-ec9f-fb0ed9b12378"
      },
      "source": [
        "### Selecting via a list of values\n",
        "# We can pass a list of labels to loc to select multiple rows or columns:\n",
        "\n",
        "# Multiple rows\n",
        "dff.loc[[1, 2, 3,4], 'c'] # dff.loc[[indexing], 'column name']"
      ],
      "execution_count": null,
      "outputs": [
        {
          "output_type": "execute_result",
          "data": {
            "text/plain": [
              "1    bar\n",
              "2    baz\n",
              "3     ab\n",
              "4     bc\n",
              "Name: c, dtype: object"
            ]
          },
          "metadata": {
            "tags": []
          },
          "execution_count": 130
        }
      ]
    },
    {
      "cell_type": "code",
      "metadata": {
        "colab": {
          "base_uri": "https://localhost:8080/",
          "height": 297
        },
        "id": "2gzAq4VOQkGa",
        "outputId": "969751b7-0741-405f-92d0-1961364aac7c"
      },
      "source": [
        "dff"
      ],
      "execution_count": null,
      "outputs": [
        {
          "output_type": "execute_result",
          "data": {
            "text/html": [
              "<div>\n",
              "<style scoped>\n",
              "    .dataframe tbody tr th:only-of-type {\n",
              "        vertical-align: middle;\n",
              "    }\n",
              "\n",
              "    .dataframe tbody tr th {\n",
              "        vertical-align: top;\n",
              "    }\n",
              "\n",
              "    .dataframe thead th {\n",
              "        text-align: right;\n",
              "    }\n",
              "</style>\n",
              "<table border=\"1\" class=\"dataframe\">\n",
              "  <thead>\n",
              "    <tr style=\"text-align: right;\">\n",
              "      <th></th>\n",
              "      <th>a</th>\n",
              "      <th>b</th>\n",
              "      <th>c</th>\n",
              "      <th>d</th>\n",
              "    </tr>\n",
              "  </thead>\n",
              "  <tbody>\n",
              "    <tr>\n",
              "      <th>0</th>\n",
              "      <td>2</td>\n",
              "      <td>2.5</td>\n",
              "      <td>foo</td>\n",
              "      <td>55</td>\n",
              "    </tr>\n",
              "    <tr>\n",
              "      <th>1</th>\n",
              "      <td>3</td>\n",
              "      <td>3.3</td>\n",
              "      <td>bar</td>\n",
              "      <td>55</td>\n",
              "    </tr>\n",
              "    <tr>\n",
              "      <th>2</th>\n",
              "      <td>4</td>\n",
              "      <td>5.5</td>\n",
              "      <td>baz</td>\n",
              "      <td>55</td>\n",
              "    </tr>\n",
              "    <tr>\n",
              "      <th>3</th>\n",
              "      <td>3</td>\n",
              "      <td>2.5</td>\n",
              "      <td>ab</td>\n",
              "      <td>55</td>\n",
              "    </tr>\n",
              "    <tr>\n",
              "      <th>4</th>\n",
              "      <td>4</td>\n",
              "      <td>3.3</td>\n",
              "      <td>bc</td>\n",
              "      <td>55</td>\n",
              "    </tr>\n",
              "    <tr>\n",
              "      <th>5</th>\n",
              "      <td>5</td>\n",
              "      <td>5.5</td>\n",
              "      <td>cd</td>\n",
              "      <td>55</td>\n",
              "    </tr>\n",
              "    <tr>\n",
              "      <th>6</th>\n",
              "      <td>6</td>\n",
              "      <td>2.0</td>\n",
              "      <td>de</td>\n",
              "      <td>55</td>\n",
              "    </tr>\n",
              "    <tr>\n",
              "      <th>7</th>\n",
              "      <td>6</td>\n",
              "      <td>2.2</td>\n",
              "      <td>ef</td>\n",
              "      <td>55</td>\n",
              "    </tr>\n",
              "  </tbody>\n",
              "</table>\n",
              "</div>"
            ],
            "text/plain": [
              "   a    b    c   d\n",
              "0  2  2.5  foo  55\n",
              "1  3  3.3  bar  55\n",
              "2  4  5.5  baz  55\n",
              "3  3  2.5   ab  55\n",
              "4  4  3.3   bc  55\n",
              "5  5  5.5   cd  55\n",
              "6  6  2.0   de  55\n",
              "7  6  2.2   ef  55"
            ]
          },
          "metadata": {
            "tags": []
          },
          "execution_count": 133
        }
      ]
    },
    {
      "cell_type": "code",
      "metadata": {
        "colab": {
          "base_uri": "https://localhost:8080/"
        },
        "id": "N_cXRua5HlTY",
        "outputId": "788afb94-3480-43ef-ca77-a1bfa25c799e"
      },
      "source": [
        "# Multiple columns\n",
        "# df.loc['Fri', ['Temperature', 'Wind']]\n",
        "df.loc[1, ['a', 'b']]"
      ],
      "execution_count": null,
      "outputs": [
        {
          "output_type": "execute_result",
          "data": {
            "text/plain": [
              "a      3\n",
              "b    3.3\n",
              "Name: 1, dtype: object"
            ]
          },
          "metadata": {
            "tags": []
          },
          "execution_count": 141
        }
      ]
    },
    {
      "cell_type": "code",
      "metadata": {
        "colab": {
          "base_uri": "https://localhost:8080/"
        },
        "id": "_pFJ4V49RDAt",
        "outputId": "495875b2-fe31-41b4-a6ca-218b9d44f1a2"
      },
      "source": [
        "dff.iloc[[3, 4], 1]"
      ],
      "execution_count": null,
      "outputs": [
        {
          "output_type": "execute_result",
          "data": {
            "text/plain": [
              "3    2.5\n",
              "4    3.3\n",
              "Name: b, dtype: float64"
            ]
          },
          "metadata": {
            "tags": []
          },
          "execution_count": 142
        }
      ]
    },
    {
      "cell_type": "code",
      "metadata": {
        "colab": {
          "base_uri": "https://localhost:8080/"
        },
        "id": "ExGtjU5zRXMZ",
        "outputId": "03e40492-c38d-4cea-995e-3b6123a2ea17"
      },
      "source": [
        "dff.iloc[[3, 4], 1] #multiple rows"
      ],
      "execution_count": null,
      "outputs": [
        {
          "output_type": "execute_result",
          "data": {
            "text/plain": [
              "3    2.5\n",
              "4    3.3\n",
              "Name: b, dtype: float64"
            ]
          },
          "metadata": {
            "tags": []
          },
          "execution_count": 146
        }
      ]
    },
    {
      "cell_type": "code",
      "metadata": {
        "colab": {
          "base_uri": "https://localhost:8080/"
        },
        "id": "j8zl1wu65zGF",
        "outputId": "3ac0e1a0-e262-4ea6-abf6-511f8c62c721"
      },
      "source": [
        "dff.iloc[4, [1, 2]] #multiple columns"
      ],
      "execution_count": null,
      "outputs": [
        {
          "output_type": "execute_result",
          "data": {
            "text/plain": [
              "b    3.3\n",
              "c     bc\n",
              "Name: 4, dtype: object"
            ]
          },
          "metadata": {
            "tags": []
          },
          "execution_count": 144
        }
      ]
    },
    {
      "cell_type": "code",
      "metadata": {
        "colab": {
          "base_uri": "https://localhost:8080/",
          "height": 142
        },
        "id": "R0yFx6jC9Bt-",
        "outputId": "8e386244-9ed2-4670-a16b-c14fba7d574b"
      },
      "source": [
        "df"
      ],
      "execution_count": null,
      "outputs": [
        {
          "output_type": "execute_result",
          "data": {
            "text/html": [
              "<div>\n",
              "<style scoped>\n",
              "    .dataframe tbody tr th:only-of-type {\n",
              "        vertical-align: middle;\n",
              "    }\n",
              "\n",
              "    .dataframe tbody tr th {\n",
              "        vertical-align: top;\n",
              "    }\n",
              "\n",
              "    .dataframe thead th {\n",
              "        text-align: right;\n",
              "    }\n",
              "</style>\n",
              "<table border=\"1\" class=\"dataframe\">\n",
              "  <thead>\n",
              "    <tr style=\"text-align: right;\">\n",
              "      <th></th>\n",
              "      <th>a</th>\n",
              "      <th>b</th>\n",
              "      <th>c</th>\n",
              "      <th>d</th>\n",
              "    </tr>\n",
              "  </thead>\n",
              "  <tbody>\n",
              "    <tr>\n",
              "      <th>0</th>\n",
              "      <td>2</td>\n",
              "      <td>2.5</td>\n",
              "      <td>foo</td>\n",
              "      <td>55</td>\n",
              "    </tr>\n",
              "    <tr>\n",
              "      <th>1</th>\n",
              "      <td>3</td>\n",
              "      <td>3.3</td>\n",
              "      <td>bar</td>\n",
              "      <td>55</td>\n",
              "    </tr>\n",
              "    <tr>\n",
              "      <th>2</th>\n",
              "      <td>4</td>\n",
              "      <td>5.5</td>\n",
              "      <td>baz</td>\n",
              "      <td>55</td>\n",
              "    </tr>\n",
              "  </tbody>\n",
              "</table>\n",
              "</div>"
            ],
            "text/plain": [
              "   a    b    c   d\n",
              "0  2  2.5  foo  55\n",
              "1  3  3.3  bar  55\n",
              "2  4  5.5  baz  55"
            ]
          },
          "metadata": {
            "tags": []
          },
          "execution_count": 25
        }
      ]
    },
    {
      "cell_type": "code",
      "metadata": {
        "colab": {
          "base_uri": "https://localhost:8080/",
          "height": 111
        },
        "id": "Lx_KYKjx9Eyh",
        "outputId": "2586bc2a-3639-4a47-cf7b-7a8d883c5727"
      },
      "source": [
        "# Slicing the data in range. \n",
        "#loc with slice\n",
        "#INcuding both initial and final point (A:B) >>> BOTH includes \n",
        "# Slicing column labels\n",
        "rows=[1, 2]\n",
        "dff.loc[rows, 'a':'c' ]"
      ],
      "execution_count": null,
      "outputs": [
        {
          "output_type": "execute_result",
          "data": {
            "text/html": [
              "<div>\n",
              "<style scoped>\n",
              "    .dataframe tbody tr th:only-of-type {\n",
              "        vertical-align: middle;\n",
              "    }\n",
              "\n",
              "    .dataframe tbody tr th {\n",
              "        vertical-align: top;\n",
              "    }\n",
              "\n",
              "    .dataframe thead th {\n",
              "        text-align: right;\n",
              "    }\n",
              "</style>\n",
              "<table border=\"1\" class=\"dataframe\">\n",
              "  <thead>\n",
              "    <tr style=\"text-align: right;\">\n",
              "      <th></th>\n",
              "      <th>a</th>\n",
              "      <th>b</th>\n",
              "      <th>c</th>\n",
              "    </tr>\n",
              "  </thead>\n",
              "  <tbody>\n",
              "    <tr>\n",
              "      <th>1</th>\n",
              "      <td>3</td>\n",
              "      <td>3.3</td>\n",
              "      <td>bar</td>\n",
              "    </tr>\n",
              "    <tr>\n",
              "      <th>2</th>\n",
              "      <td>4</td>\n",
              "      <td>5.5</td>\n",
              "      <td>baz</td>\n",
              "    </tr>\n",
              "  </tbody>\n",
              "</table>\n",
              "</div>"
            ],
            "text/plain": [
              "   a    b    c\n",
              "1  3  3.3  bar\n",
              "2  4  5.5  baz"
            ]
          },
          "metadata": {
            "tags": []
          },
          "execution_count": 148
        }
      ]
    },
    {
      "cell_type": "code",
      "metadata": {
        "colab": {
          "base_uri": "https://localhost:8080/",
          "height": 111
        },
        "id": "3cMfseFbTmN4",
        "outputId": "b6c30421-74a0-4cb1-d27c-cebb11583a0c"
      },
      "source": [
        "# Slicing row labels\n",
        "cols = ['a', 'c']\n",
        "dff.loc[1:2, cols]"
      ],
      "execution_count": null,
      "outputs": [
        {
          "output_type": "execute_result",
          "data": {
            "text/html": [
              "<div>\n",
              "<style scoped>\n",
              "    .dataframe tbody tr th:only-of-type {\n",
              "        vertical-align: middle;\n",
              "    }\n",
              "\n",
              "    .dataframe tbody tr th {\n",
              "        vertical-align: top;\n",
              "    }\n",
              "\n",
              "    .dataframe thead th {\n",
              "        text-align: right;\n",
              "    }\n",
              "</style>\n",
              "<table border=\"1\" class=\"dataframe\">\n",
              "  <thead>\n",
              "    <tr style=\"text-align: right;\">\n",
              "      <th></th>\n",
              "      <th>a</th>\n",
              "      <th>c</th>\n",
              "    </tr>\n",
              "  </thead>\n",
              "  <tbody>\n",
              "    <tr>\n",
              "      <th>1</th>\n",
              "      <td>3</td>\n",
              "      <td>bar</td>\n",
              "    </tr>\n",
              "    <tr>\n",
              "      <th>2</th>\n",
              "      <td>4</td>\n",
              "      <td>baz</td>\n",
              "    </tr>\n",
              "  </tbody>\n",
              "</table>\n",
              "</div>"
            ],
            "text/plain": [
              "   a    c\n",
              "1  3  bar\n",
              "2  4  baz"
            ]
          },
          "metadata": {
            "tags": []
          },
          "execution_count": 150
        }
      ]
    },
    {
      "cell_type": "code",
      "metadata": {
        "colab": {
          "base_uri": "https://localhost:8080/",
          "height": 142
        },
        "id": "MIH_l3NSTzdh",
        "outputId": "bd79910c-6a8b-4fbb-ceb7-8a94c944909d"
      },
      "source": [
        "# Slicing with step\n",
        "dff.loc[1:6:2 , :]\n"
      ],
      "execution_count": null,
      "outputs": [
        {
          "output_type": "execute_result",
          "data": {
            "text/html": [
              "<div>\n",
              "<style scoped>\n",
              "    .dataframe tbody tr th:only-of-type {\n",
              "        vertical-align: middle;\n",
              "    }\n",
              "\n",
              "    .dataframe tbody tr th {\n",
              "        vertical-align: top;\n",
              "    }\n",
              "\n",
              "    .dataframe thead th {\n",
              "        text-align: right;\n",
              "    }\n",
              "</style>\n",
              "<table border=\"1\" class=\"dataframe\">\n",
              "  <thead>\n",
              "    <tr style=\"text-align: right;\">\n",
              "      <th></th>\n",
              "      <th>a</th>\n",
              "      <th>b</th>\n",
              "      <th>c</th>\n",
              "      <th>d</th>\n",
              "    </tr>\n",
              "  </thead>\n",
              "  <tbody>\n",
              "    <tr>\n",
              "      <th>1</th>\n",
              "      <td>3</td>\n",
              "      <td>3.3</td>\n",
              "      <td>bar</td>\n",
              "      <td>55</td>\n",
              "    </tr>\n",
              "    <tr>\n",
              "      <th>3</th>\n",
              "      <td>3</td>\n",
              "      <td>2.5</td>\n",
              "      <td>ab</td>\n",
              "      <td>55</td>\n",
              "    </tr>\n",
              "    <tr>\n",
              "      <th>5</th>\n",
              "      <td>5</td>\n",
              "      <td>5.5</td>\n",
              "      <td>cd</td>\n",
              "      <td>55</td>\n",
              "    </tr>\n",
              "  </tbody>\n",
              "</table>\n",
              "</div>"
            ],
            "text/plain": [
              "   a    b    c   d\n",
              "1  3  3.3  bar  55\n",
              "3  3  2.5   ab  55\n",
              "5  5  5.5   cd  55"
            ]
          },
          "metadata": {
            "tags": []
          },
          "execution_count": 151
        }
      ]
    },
    {
      "cell_type": "markdown",
      "metadata": {
        "id": "4I5UcfU-UJGi"
      },
      "source": [
        "iloc with slice"
      ]
    },
    {
      "cell_type": "code",
      "metadata": {
        "colab": {
          "base_uri": "https://localhost:8080/",
          "height": 111
        },
        "id": "JP1YbnMRUHrl",
        "outputId": "9b755b37-74c4-40d8-db1a-b14464dc7236"
      },
      "source": [
        "#while using iloc, we use the syntax n:m to select data from position n (included) to position m (excluded).\n",
        "# here we select columns from position 0 up to 3 (excluded):\n",
        "dff.iloc[[1, 2], 0 : 3] #d indexed by 4\n"
      ],
      "execution_count": null,
      "outputs": [
        {
          "output_type": "execute_result",
          "data": {
            "text/html": [
              "<div>\n",
              "<style scoped>\n",
              "    .dataframe tbody tr th:only-of-type {\n",
              "        vertical-align: middle;\n",
              "    }\n",
              "\n",
              "    .dataframe tbody tr th {\n",
              "        vertical-align: top;\n",
              "    }\n",
              "\n",
              "    .dataframe thead th {\n",
              "        text-align: right;\n",
              "    }\n",
              "</style>\n",
              "<table border=\"1\" class=\"dataframe\">\n",
              "  <thead>\n",
              "    <tr style=\"text-align: right;\">\n",
              "      <th></th>\n",
              "      <th>a</th>\n",
              "      <th>b</th>\n",
              "      <th>c</th>\n",
              "    </tr>\n",
              "  </thead>\n",
              "  <tbody>\n",
              "    <tr>\n",
              "      <th>1</th>\n",
              "      <td>3</td>\n",
              "      <td>3.3</td>\n",
              "      <td>bar</td>\n",
              "    </tr>\n",
              "    <tr>\n",
              "      <th>2</th>\n",
              "      <td>4</td>\n",
              "      <td>5.5</td>\n",
              "      <td>baz</td>\n",
              "    </tr>\n",
              "  </tbody>\n",
              "</table>\n",
              "</div>"
            ],
            "text/plain": [
              "   a    b    c\n",
              "1  3  3.3  bar\n",
              "2  4  5.5  baz"
            ]
          },
          "metadata": {
            "tags": []
          },
          "execution_count": 152
        }
      ]
    },
    {
      "cell_type": "code",
      "metadata": {
        "colab": {
          "base_uri": "https://localhost:8080/",
          "height": 142
        },
        "id": "BCDeNL9GU2fM",
        "outputId": "c5df9c7c-307c-40df-fea3-06430f7328db"
      },
      "source": [
        "#here is the step syntax n:m:s:\n",
        "dff.iloc[0:5:2, :]  #5 is excluded from here\n",
        "\n"
      ],
      "execution_count": null,
      "outputs": [
        {
          "output_type": "execute_result",
          "data": {
            "text/html": [
              "<div>\n",
              "<style scoped>\n",
              "    .dataframe tbody tr th:only-of-type {\n",
              "        vertical-align: middle;\n",
              "    }\n",
              "\n",
              "    .dataframe tbody tr th {\n",
              "        vertical-align: top;\n",
              "    }\n",
              "\n",
              "    .dataframe thead th {\n",
              "        text-align: right;\n",
              "    }\n",
              "</style>\n",
              "<table border=\"1\" class=\"dataframe\">\n",
              "  <thead>\n",
              "    <tr style=\"text-align: right;\">\n",
              "      <th></th>\n",
              "      <th>a</th>\n",
              "      <th>b</th>\n",
              "      <th>c</th>\n",
              "      <th>d</th>\n",
              "    </tr>\n",
              "  </thead>\n",
              "  <tbody>\n",
              "    <tr>\n",
              "      <th>0</th>\n",
              "      <td>2</td>\n",
              "      <td>2.5</td>\n",
              "      <td>foo</td>\n",
              "      <td>55</td>\n",
              "    </tr>\n",
              "    <tr>\n",
              "      <th>2</th>\n",
              "      <td>4</td>\n",
              "      <td>5.5</td>\n",
              "      <td>baz</td>\n",
              "      <td>55</td>\n",
              "    </tr>\n",
              "    <tr>\n",
              "      <th>4</th>\n",
              "      <td>4</td>\n",
              "      <td>3.3</td>\n",
              "      <td>bc</td>\n",
              "      <td>55</td>\n",
              "    </tr>\n",
              "  </tbody>\n",
              "</table>\n",
              "</div>"
            ],
            "text/plain": [
              "   a    b    c   d\n",
              "0  2  2.5  foo  55\n",
              "2  4  5.5  baz  55\n",
              "4  4  3.3   bc  55"
            ]
          },
          "metadata": {
            "tags": []
          },
          "execution_count": 155
        }
      ]
    },
    {
      "cell_type": "code",
      "metadata": {
        "id": "090lr-kvwumW"
      },
      "source": [
        "\n"
      ],
      "execution_count": null,
      "outputs": []
    },
    {
      "cell_type": "code",
      "metadata": {
        "colab": {
          "base_uri": "https://localhost:8080/",
          "height": 328
        },
        "id": "E_Az2JdBYZge",
        "outputId": "0d5ddb3a-d421-45c2-cc59-5ce73149a29a"
      },
      "source": [
        "df = pd.DataFrame({'city' : ['Kathmandu', 'Kathmandu', 'Kathmandu', 'Pokhara',\n",
        "                                 'Nepaljung','Nepaljung', 'Biratnagar', 'Illam', 'Dharan'],\n",
        "                   'location' : ['Baneshwor ', 'Koteshwor ', 'Jorpati', 'Lake_Side',\n",
        "                                 'Ratna_Rajmarga','Npl_Airport', 'buspark', 'Kanyam', 'Bhanuchowk'],\n",
        "                   'temp' : ['30', '30', '30', '31', '38', '38', '34', '27', '31'],\n",
        "                   'wind' : ['7 ', '6 ', '7 ', '12 ', '10 ', '11 ', '12','15 ', '12'], \n",
        "                   'Humidity': ['67', '67', '67', '55', '65','66',  '66', '77','80' ]})\n",
        "df"
      ],
      "execution_count": null,
      "outputs": [
        {
          "output_type": "execute_result",
          "data": {
            "text/html": [
              "<div>\n",
              "<style scoped>\n",
              "    .dataframe tbody tr th:only-of-type {\n",
              "        vertical-align: middle;\n",
              "    }\n",
              "\n",
              "    .dataframe tbody tr th {\n",
              "        vertical-align: top;\n",
              "    }\n",
              "\n",
              "    .dataframe thead th {\n",
              "        text-align: right;\n",
              "    }\n",
              "</style>\n",
              "<table border=\"1\" class=\"dataframe\">\n",
              "  <thead>\n",
              "    <tr style=\"text-align: right;\">\n",
              "      <th></th>\n",
              "      <th>city</th>\n",
              "      <th>location</th>\n",
              "      <th>temp</th>\n",
              "      <th>wind</th>\n",
              "      <th>Humidity</th>\n",
              "    </tr>\n",
              "  </thead>\n",
              "  <tbody>\n",
              "    <tr>\n",
              "      <th>0</th>\n",
              "      <td>Kathmandu</td>\n",
              "      <td>Baneshwor</td>\n",
              "      <td>30</td>\n",
              "      <td>7</td>\n",
              "      <td>67</td>\n",
              "    </tr>\n",
              "    <tr>\n",
              "      <th>1</th>\n",
              "      <td>Kathmandu</td>\n",
              "      <td>Koteshwor</td>\n",
              "      <td>30</td>\n",
              "      <td>6</td>\n",
              "      <td>67</td>\n",
              "    </tr>\n",
              "    <tr>\n",
              "      <th>2</th>\n",
              "      <td>Kathmandu</td>\n",
              "      <td>Jorpati</td>\n",
              "      <td>30</td>\n",
              "      <td>7</td>\n",
              "      <td>67</td>\n",
              "    </tr>\n",
              "    <tr>\n",
              "      <th>3</th>\n",
              "      <td>Pokhara</td>\n",
              "      <td>Lake_Side</td>\n",
              "      <td>31</td>\n",
              "      <td>12</td>\n",
              "      <td>55</td>\n",
              "    </tr>\n",
              "    <tr>\n",
              "      <th>4</th>\n",
              "      <td>Nepaljung</td>\n",
              "      <td>Ratna_Rajmarga</td>\n",
              "      <td>38</td>\n",
              "      <td>10</td>\n",
              "      <td>65</td>\n",
              "    </tr>\n",
              "    <tr>\n",
              "      <th>5</th>\n",
              "      <td>Nepaljung</td>\n",
              "      <td>Npl_Airport</td>\n",
              "      <td>38</td>\n",
              "      <td>11</td>\n",
              "      <td>66</td>\n",
              "    </tr>\n",
              "    <tr>\n",
              "      <th>6</th>\n",
              "      <td>Biratnagar</td>\n",
              "      <td>buspark</td>\n",
              "      <td>34</td>\n",
              "      <td>12</td>\n",
              "      <td>66</td>\n",
              "    </tr>\n",
              "    <tr>\n",
              "      <th>7</th>\n",
              "      <td>Illam</td>\n",
              "      <td>Kanyam</td>\n",
              "      <td>27</td>\n",
              "      <td>15</td>\n",
              "      <td>77</td>\n",
              "    </tr>\n",
              "    <tr>\n",
              "      <th>8</th>\n",
              "      <td>Dharan</td>\n",
              "      <td>Bhanuchowk</td>\n",
              "      <td>31</td>\n",
              "      <td>12</td>\n",
              "      <td>80</td>\n",
              "    </tr>\n",
              "  </tbody>\n",
              "</table>\n",
              "</div>"
            ],
            "text/plain": [
              "         city        location temp wind Humidity\n",
              "0   Kathmandu      Baneshwor    30   7        67\n",
              "1   Kathmandu      Koteshwor    30   6        67\n",
              "2   Kathmandu         Jorpati   30   7        67\n",
              "3     Pokhara       Lake_Side   31  12        55\n",
              "4   Nepaljung  Ratna_Rajmarga   38  10        65\n",
              "5   Nepaljung     Npl_Airport   38  11        66\n",
              "6  Biratnagar         buspark   34   12       66\n",
              "7       Illam          Kanyam   27  15        77\n",
              "8      Dharan      Bhanuchowk   31   12       80"
            ]
          },
          "metadata": {
            "tags": []
          },
          "execution_count": 195
        }
      ]
    },
    {
      "cell_type": "code",
      "metadata": {
        "id": "1sWlE086fGEw"
      },
      "source": [
        "df_by_location = df.groupby(\"city\")"
      ],
      "execution_count": null,
      "outputs": []
    },
    {
      "cell_type": "code",
      "metadata": {
        "colab": {
          "base_uri": "https://localhost:8080/"
        },
        "id": "9MmMgH-3fQv4",
        "outputId": "b2c822bc-0236-4e55-afe7-6380c7838f28"
      },
      "source": [
        "df_by_location.groups"
      ],
      "execution_count": null,
      "outputs": [
        {
          "output_type": "execute_result",
          "data": {
            "text/plain": [
              "{'Biratnagar': [6], 'Dharan': [8], 'Illam': [7], 'Kathmandu': [0, 1, 2], 'Nepaljung': [4, 5], 'Pokhara': [3]}"
            ]
          },
          "metadata": {
            "tags": []
          },
          "execution_count": 197
        }
      ]
    },
    {
      "cell_type": "code",
      "metadata": {
        "colab": {
          "base_uri": "https://localhost:8080/",
          "height": 111
        },
        "id": "l_Fb5487ffyn",
        "outputId": "9e117c2f-38b6-4002-e624-7deaf2b77e14"
      },
      "source": [
        "df_by_location.get_group(\"Nepaljung\")"
      ],
      "execution_count": null,
      "outputs": [
        {
          "output_type": "execute_result",
          "data": {
            "text/html": [
              "<div>\n",
              "<style scoped>\n",
              "    .dataframe tbody tr th:only-of-type {\n",
              "        vertical-align: middle;\n",
              "    }\n",
              "\n",
              "    .dataframe tbody tr th {\n",
              "        vertical-align: top;\n",
              "    }\n",
              "\n",
              "    .dataframe thead th {\n",
              "        text-align: right;\n",
              "    }\n",
              "</style>\n",
              "<table border=\"1\" class=\"dataframe\">\n",
              "  <thead>\n",
              "    <tr style=\"text-align: right;\">\n",
              "      <th></th>\n",
              "      <th>city</th>\n",
              "      <th>location</th>\n",
              "      <th>temp</th>\n",
              "      <th>wind</th>\n",
              "      <th>Humidity</th>\n",
              "    </tr>\n",
              "  </thead>\n",
              "  <tbody>\n",
              "    <tr>\n",
              "      <th>4</th>\n",
              "      <td>Nepaljung</td>\n",
              "      <td>Ratna_Rajmarga</td>\n",
              "      <td>38</td>\n",
              "      <td>10</td>\n",
              "      <td>65</td>\n",
              "    </tr>\n",
              "    <tr>\n",
              "      <th>5</th>\n",
              "      <td>Nepaljung</td>\n",
              "      <td>Npl_Airport</td>\n",
              "      <td>38</td>\n",
              "      <td>11</td>\n",
              "      <td>66</td>\n",
              "    </tr>\n",
              "  </tbody>\n",
              "</table>\n",
              "</div>"
            ],
            "text/plain": [
              "        city        location temp wind Humidity\n",
              "4  Nepaljung  Ratna_Rajmarga   38  10        65\n",
              "5  Nepaljung     Npl_Airport   38  11        66"
            ]
          },
          "metadata": {
            "tags": []
          },
          "execution_count": 198
        }
      ]
    },
    {
      "cell_type": "code",
      "metadata": {
        "colab": {
          "base_uri": "https://localhost:8080/"
        },
        "id": "46DGMUNafjWe",
        "outputId": "ee51e3d4-86cc-4009-ac87-767890e6f924"
      },
      "source": [
        "df_by_location.get_group(\"Kathmandu\")[\"temp\"]"
      ],
      "execution_count": null,
      "outputs": [
        {
          "output_type": "execute_result",
          "data": {
            "text/plain": [
              "0    30\n",
              "1    30\n",
              "2    30\n",
              "Name: temp, dtype: object"
            ]
          },
          "metadata": {
            "tags": []
          },
          "execution_count": 199
        }
      ]
    },
    {
      "cell_type": "code",
      "metadata": {
        "id": "R62Kj01xfpbC"
      },
      "source": [
        ""
      ],
      "execution_count": null,
      "outputs": []
    },
    {
      "cell_type": "code",
      "metadata": {
        "id": "FnPkrloJpOJZ"
      },
      "source": [
        ""
      ],
      "execution_count": null,
      "outputs": []
    },
    {
      "cell_type": "code",
      "metadata": {
        "id": "PPQcFPFBpOMW"
      },
      "source": [
        ""
      ],
      "execution_count": null,
      "outputs": []
    },
    {
      "cell_type": "code",
      "metadata": {
        "id": "MLau7Yf1oPvl"
      },
      "source": [
        ""
      ],
      "execution_count": null,
      "outputs": []
    },
    {
      "cell_type": "markdown",
      "metadata": {
        "id": "ojr8LPmxoSV_"
      },
      "source": [
        "### Memory Usage of DataFrames¶"
      ]
    },
    {
      "cell_type": "code",
      "metadata": {
        "id": "x73exU2GoPys"
      },
      "source": [
        "rng = np.random.default_rng(42)  # initialise our random number generator\n",
        "\n",
        "data = rng.random((10_000_000, 5))"
      ],
      "execution_count": null,
      "outputs": []
    },
    {
      "cell_type": "code",
      "metadata": {
        "id": "o5JdfFZfodit"
      },
      "source": [
        "dfframe = pd.DataFrame(data, columns=list(\"uvwxy\"))"
      ],
      "execution_count": null,
      "outputs": []
    },
    {
      "cell_type": "code",
      "metadata": {
        "colab": {
          "base_uri": "https://localhost:8080/",
          "height": 419
        },
        "id": "qMkZL6IuorMb",
        "outputId": "241223c4-2311-4870-c74c-c71db3f0d4e9"
      },
      "source": [
        "dfframe"
      ],
      "execution_count": null,
      "outputs": [
        {
          "output_type": "execute_result",
          "data": {
            "text/html": [
              "<div>\n",
              "<style scoped>\n",
              "    .dataframe tbody tr th:only-of-type {\n",
              "        vertical-align: middle;\n",
              "    }\n",
              "\n",
              "    .dataframe tbody tr th {\n",
              "        vertical-align: top;\n",
              "    }\n",
              "\n",
              "    .dataframe thead th {\n",
              "        text-align: right;\n",
              "    }\n",
              "</style>\n",
              "<table border=\"1\" class=\"dataframe\">\n",
              "  <thead>\n",
              "    <tr style=\"text-align: right;\">\n",
              "      <th></th>\n",
              "      <th>u</th>\n",
              "      <th>v</th>\n",
              "      <th>w</th>\n",
              "      <th>x</th>\n",
              "      <th>y</th>\n",
              "    </tr>\n",
              "  </thead>\n",
              "  <tbody>\n",
              "    <tr>\n",
              "      <th>0</th>\n",
              "      <td>0.773956</td>\n",
              "      <td>0.438878</td>\n",
              "      <td>0.858598</td>\n",
              "      <td>0.697368</td>\n",
              "      <td>0.094177</td>\n",
              "    </tr>\n",
              "    <tr>\n",
              "      <th>1</th>\n",
              "      <td>0.975622</td>\n",
              "      <td>0.761140</td>\n",
              "      <td>0.786064</td>\n",
              "      <td>0.128114</td>\n",
              "      <td>0.450386</td>\n",
              "    </tr>\n",
              "    <tr>\n",
              "      <th>2</th>\n",
              "      <td>0.370798</td>\n",
              "      <td>0.926765</td>\n",
              "      <td>0.643865</td>\n",
              "      <td>0.822762</td>\n",
              "      <td>0.443414</td>\n",
              "    </tr>\n",
              "    <tr>\n",
              "      <th>3</th>\n",
              "      <td>0.227239</td>\n",
              "      <td>0.554585</td>\n",
              "      <td>0.063817</td>\n",
              "      <td>0.827631</td>\n",
              "      <td>0.631664</td>\n",
              "    </tr>\n",
              "    <tr>\n",
              "      <th>4</th>\n",
              "      <td>0.758088</td>\n",
              "      <td>0.354526</td>\n",
              "      <td>0.970698</td>\n",
              "      <td>0.893121</td>\n",
              "      <td>0.778383</td>\n",
              "    </tr>\n",
              "    <tr>\n",
              "      <th>...</th>\n",
              "      <td>...</td>\n",
              "      <td>...</td>\n",
              "      <td>...</td>\n",
              "      <td>...</td>\n",
              "      <td>...</td>\n",
              "    </tr>\n",
              "    <tr>\n",
              "      <th>9999995</th>\n",
              "      <td>0.939205</td>\n",
              "      <td>0.518977</td>\n",
              "      <td>0.614729</td>\n",
              "      <td>0.670612</td>\n",
              "      <td>0.924267</td>\n",
              "    </tr>\n",
              "    <tr>\n",
              "      <th>9999996</th>\n",
              "      <td>0.870791</td>\n",
              "      <td>0.943020</td>\n",
              "      <td>0.707543</td>\n",
              "      <td>0.259867</td>\n",
              "      <td>0.705079</td>\n",
              "    </tr>\n",
              "    <tr>\n",
              "      <th>9999997</th>\n",
              "      <td>0.056982</td>\n",
              "      <td>0.204468</td>\n",
              "      <td>0.035013</td>\n",
              "      <td>0.746926</td>\n",
              "      <td>0.816712</td>\n",
              "    </tr>\n",
              "    <tr>\n",
              "      <th>9999998</th>\n",
              "      <td>0.474507</td>\n",
              "      <td>0.710394</td>\n",
              "      <td>0.630288</td>\n",
              "      <td>0.633417</td>\n",
              "      <td>0.468661</td>\n",
              "    </tr>\n",
              "    <tr>\n",
              "      <th>9999999</th>\n",
              "      <td>0.407611</td>\n",
              "      <td>0.518383</td>\n",
              "      <td>0.991700</td>\n",
              "      <td>0.584067</td>\n",
              "      <td>0.170377</td>\n",
              "    </tr>\n",
              "  </tbody>\n",
              "</table>\n",
              "<p>10000000 rows × 5 columns</p>\n",
              "</div>"
            ],
            "text/plain": [
              "                u         v         w         x         y\n",
              "0        0.773956  0.438878  0.858598  0.697368  0.094177\n",
              "1        0.975622  0.761140  0.786064  0.128114  0.450386\n",
              "2        0.370798  0.926765  0.643865  0.822762  0.443414\n",
              "3        0.227239  0.554585  0.063817  0.827631  0.631664\n",
              "4        0.758088  0.354526  0.970698  0.893121  0.778383\n",
              "...           ...       ...       ...       ...       ...\n",
              "9999995  0.939205  0.518977  0.614729  0.670612  0.924267\n",
              "9999996  0.870791  0.943020  0.707543  0.259867  0.705079\n",
              "9999997  0.056982  0.204468  0.035013  0.746926  0.816712\n",
              "9999998  0.474507  0.710394  0.630288  0.633417  0.468661\n",
              "9999999  0.407611  0.518383  0.991700  0.584067  0.170377\n",
              "\n",
              "[10000000 rows x 5 columns]"
            ]
          },
          "metadata": {
            "tags": []
          },
          "execution_count": 205
        }
      ]
    },
    {
      "cell_type": "code",
      "metadata": {
        "colab": {
          "base_uri": "https://localhost:8080/",
          "height": 419
        },
        "id": "7BPRGCHCosUB",
        "outputId": "f06390be-15b0-4ea1-c15c-1fb618de6aaf"
      },
      "source": [
        "dfframe"
      ],
      "execution_count": null,
      "outputs": [
        {
          "output_type": "execute_result",
          "data": {
            "text/html": [
              "<div>\n",
              "<style scoped>\n",
              "    .dataframe tbody tr th:only-of-type {\n",
              "        vertical-align: middle;\n",
              "    }\n",
              "\n",
              "    .dataframe tbody tr th {\n",
              "        vertical-align: top;\n",
              "    }\n",
              "\n",
              "    .dataframe thead th {\n",
              "        text-align: right;\n",
              "    }\n",
              "</style>\n",
              "<table border=\"1\" class=\"dataframe\">\n",
              "  <thead>\n",
              "    <tr style=\"text-align: right;\">\n",
              "      <th></th>\n",
              "      <th>u</th>\n",
              "      <th>v</th>\n",
              "      <th>w</th>\n",
              "      <th>x</th>\n",
              "      <th>y</th>\n",
              "    </tr>\n",
              "  </thead>\n",
              "  <tbody>\n",
              "    <tr>\n",
              "      <th>0</th>\n",
              "      <td>0.773956</td>\n",
              "      <td>0.438878</td>\n",
              "      <td>0.858598</td>\n",
              "      <td>0.697368</td>\n",
              "      <td>0.094177</td>\n",
              "    </tr>\n",
              "    <tr>\n",
              "      <th>1</th>\n",
              "      <td>0.975622</td>\n",
              "      <td>0.761140</td>\n",
              "      <td>0.786064</td>\n",
              "      <td>0.128114</td>\n",
              "      <td>0.450386</td>\n",
              "    </tr>\n",
              "    <tr>\n",
              "      <th>2</th>\n",
              "      <td>0.370798</td>\n",
              "      <td>0.926765</td>\n",
              "      <td>0.643865</td>\n",
              "      <td>0.822762</td>\n",
              "      <td>0.443414</td>\n",
              "    </tr>\n",
              "    <tr>\n",
              "      <th>3</th>\n",
              "      <td>0.227239</td>\n",
              "      <td>0.554585</td>\n",
              "      <td>0.063817</td>\n",
              "      <td>0.827631</td>\n",
              "      <td>0.631664</td>\n",
              "    </tr>\n",
              "    <tr>\n",
              "      <th>4</th>\n",
              "      <td>0.758088</td>\n",
              "      <td>0.354526</td>\n",
              "      <td>0.970698</td>\n",
              "      <td>0.893121</td>\n",
              "      <td>0.778383</td>\n",
              "    </tr>\n",
              "    <tr>\n",
              "      <th>...</th>\n",
              "      <td>...</td>\n",
              "      <td>...</td>\n",
              "      <td>...</td>\n",
              "      <td>...</td>\n",
              "      <td>...</td>\n",
              "    </tr>\n",
              "    <tr>\n",
              "      <th>9999995</th>\n",
              "      <td>0.939205</td>\n",
              "      <td>0.518977</td>\n",
              "      <td>0.614729</td>\n",
              "      <td>0.670612</td>\n",
              "      <td>0.924267</td>\n",
              "    </tr>\n",
              "    <tr>\n",
              "      <th>9999996</th>\n",
              "      <td>0.870791</td>\n",
              "      <td>0.943020</td>\n",
              "      <td>0.707543</td>\n",
              "      <td>0.259867</td>\n",
              "      <td>0.705079</td>\n",
              "    </tr>\n",
              "    <tr>\n",
              "      <th>9999997</th>\n",
              "      <td>0.056982</td>\n",
              "      <td>0.204468</td>\n",
              "      <td>0.035013</td>\n",
              "      <td>0.746926</td>\n",
              "      <td>0.816712</td>\n",
              "    </tr>\n",
              "    <tr>\n",
              "      <th>9999998</th>\n",
              "      <td>0.474507</td>\n",
              "      <td>0.710394</td>\n",
              "      <td>0.630288</td>\n",
              "      <td>0.633417</td>\n",
              "      <td>0.468661</td>\n",
              "    </tr>\n",
              "    <tr>\n",
              "      <th>9999999</th>\n",
              "      <td>0.407611</td>\n",
              "      <td>0.518383</td>\n",
              "      <td>0.991700</td>\n",
              "      <td>0.584067</td>\n",
              "      <td>0.170377</td>\n",
              "    </tr>\n",
              "  </tbody>\n",
              "</table>\n",
              "<p>10000000 rows × 5 columns</p>\n",
              "</div>"
            ],
            "text/plain": [
              "                u         v         w         x         y\n",
              "0        0.773956  0.438878  0.858598  0.697368  0.094177\n",
              "1        0.975622  0.761140  0.786064  0.128114  0.450386\n",
              "2        0.370798  0.926765  0.643865  0.822762  0.443414\n",
              "3        0.227239  0.554585  0.063817  0.827631  0.631664\n",
              "4        0.758088  0.354526  0.970698  0.893121  0.778383\n",
              "...           ...       ...       ...       ...       ...\n",
              "9999995  0.939205  0.518977  0.614729  0.670612  0.924267\n",
              "9999996  0.870791  0.943020  0.707543  0.259867  0.705079\n",
              "9999997  0.056982  0.204468  0.035013  0.746926  0.816712\n",
              "9999998  0.474507  0.710394  0.630288  0.633417  0.468661\n",
              "9999999  0.407611  0.518383  0.991700  0.584067  0.170377\n",
              "\n",
              "[10000000 rows x 5 columns]"
            ]
          },
          "metadata": {
            "tags": []
          },
          "execution_count": 206
        }
      ]
    },
    {
      "cell_type": "code",
      "metadata": {
        "colab": {
          "base_uri": "https://localhost:8080/"
        },
        "id": "vt6JNuBUoyAk",
        "outputId": "b32e5b54-9f9b-49de-8b81-cf2bae4d662b"
      },
      "source": [
        "\n",
        "dfframe.info(memory_usage=\"deep\")"
      ],
      "execution_count": null,
      "outputs": [
        {
          "output_type": "stream",
          "text": [
            "<class 'pandas.core.frame.DataFrame'>\n",
            "RangeIndex: 10000000 entries, 0 to 9999999\n",
            "Data columns (total 5 columns):\n",
            " #   Column  Dtype  \n",
            "---  ------  -----  \n",
            " 0   u       float64\n",
            " 1   v       float64\n",
            " 2   w       float64\n",
            " 3   x       float64\n",
            " 4   y       float64\n",
            "dtypes: float64(5)\n",
            "memory usage: 381.5 MB\n"
          ],
          "name": "stdout"
        }
      ]
    },
    {
      "cell_type": "markdown",
      "metadata": {
        "id": "DaOasPSIqbnC"
      },
      "source": [
        "### Curve fitting \n",
        "https://docs.scipy.org/doc/scipy/reference/generated/scipy.optimize.curve_fit.html"
      ]
    },
    {
      "cell_type": "code",
      "metadata": {
        "id": "r-2821NSo7tD"
      },
      "source": [
        "curve_fit?"
      ],
      "execution_count": null,
      "outputs": []
    },
    {
      "cell_type": "markdown",
      "metadata": {
        "id": "mxKOWExiqn7e"
      },
      "source": [
        ""
      ]
    },
    {
      "cell_type": "code",
      "metadata": {
        "id": "rTb-RoeDqAz1"
      },
      "source": [
        "import matplotlib.pyplot as plt \n",
        "from scipy.optimize import curve_fit\n",
        "import numpy as np"
      ],
      "execution_count": 217,
      "outputs": []
    },
    {
      "cell_type": "code",
      "metadata": {
        "id": "uxnSjjSuqA31"
      },
      "source": [
        "def func(x,a, b, c):\n",
        "  return a * np.sin(-b * x) + np.sin(-b * x)**2"
      ],
      "execution_count": 218,
      "outputs": []
    },
    {
      "cell_type": "code",
      "metadata": {
        "id": "87n5MELEqFhs"
      },
      "source": [
        "xdata = np.linspace(0,4,50)\n",
        "y = func(xdata, 2.4, 1.3, 0.5)\n",
        "np.random.seed(123)\n",
        "y_noise = 0.2*np.random.normal(size=xdata.size)\n",
        "ydata = y+y_noise"
      ],
      "execution_count": 219,
      "outputs": []
    },
    {
      "cell_type": "code",
      "metadata": {
        "colab": {
          "base_uri": "https://localhost:8080/",
          "height": 337
        },
        "id": "UOzCQVGaqLdy",
        "outputId": "c9988dbe-a348-48a9-91db-12ebf911f903"
      },
      "source": [
        "plt.plot(xdata, ydata, 'b-', label='data')"
      ],
      "execution_count": 220,
      "outputs": [
        {
          "output_type": "execute_result",
          "data": {
            "text/plain": [
              "[<matplotlib.lines.Line2D at 0x7f01b0f15250>]"
            ]
          },
          "metadata": {
            "tags": []
          },
          "execution_count": 220
        },
        {
          "output_type": "display_data",
          "data": {
            "image/png": "[encoded data removed]",
            "text/plain": [
              "<Figure size 720x360 with 1 Axes>"
            ]
          },
          "metadata": {
            "tags": [],
            "needs_background": "light"
          }
        }
      ]
    },
    {
      "cell_type": "code",
      "metadata": {
        "colab": {
          "base_uri": "https://localhost:8080/"
        },
        "id": "6f8NhIkrqOhF",
        "outputId": "6db3ca8d-0298-4f66-de15-1572fc1b4570"
      },
      "source": [
        "popt, pcov = curve_fit(func,xdata, ydata)"
      ],
      "execution_count": 221,
      "outputs": [
        {
          "output_type": "stream",
          "text": [
            "/usr/local/lib/python3.7/dist-packages/scipy/optimize/minpack.py:808: OptimizeWarning: Covariance of the parameters could not be estimated\n",
            "  category=OptimizeWarning)\n"
          ],
          "name": "stderr"
        }
      ]
    },
    {
      "cell_type": "code",
      "metadata": {
        "colab": {
          "base_uri": "https://localhost:8080/",
          "height": 337
        },
        "id": "A6er4LYpqRA-",
        "outputId": "27d47da6-1ed7-4b3d-d3e0-134663414400"
      },
      "source": [
        "plt.plot(xdata, ydata, '.', label='data')\n",
        "plt.plot(xdata, func(xdata, *popt), 'r-',\n",
        "         label='fit: a=%2.3f, b=%5.3f, c=%5.3f' % tuple(popt))\n",
        "plt.legend()"
      ],
      "execution_count": 222,
      "outputs": [
        {
          "output_type": "execute_result",
          "data": {
            "text/plain": [
              "<matplotlib.legend.Legend at 0x7f01b0f15590>"
            ]
          },
          "metadata": {
            "tags": []
          },
          "execution_count": 222
        },
        {
          "output_type": "display_data",
          "data": {
            "image/png": "[encoded data removed]",
            "text/plain": [
              "<Figure size 720x360 with 1 Axes>"
            ]
          },
          "metadata": {
            "tags": [],
            "needs_background": "light"
          }
        }
      ]
    },
    {
      "cell_type": "code",
      "metadata": {
        "id": "j4ffSLi8qUbu"
      },
      "source": [
        ""
      ],
      "execution_count": null,
      "outputs": []
    }
  ]
}